{
 "cells": [
  {
   "cell_type": "code",
   "execution_count": 4,
   "id": "5e19f91e",
   "metadata": {},
   "outputs": [],
   "source": [
    "import pandas as pd\n",
    "import datetime as dt"
   ]
  },
  {
   "cell_type": "code",
   "execution_count": 5,
   "id": "972bacf1",
   "metadata": {},
   "outputs": [],
   "source": [
    "dataset=pd.read_csv(\"Chiller_Cons.csv\")"
   ]
  },
  {
   "cell_type": "code",
   "execution_count": 6,
   "id": "64883f40",
   "metadata": {},
   "outputs": [
    {
     "data": {
      "text/html": [
       "<div>\n",
       "<style scoped>\n",
       "    .dataframe tbody tr th:only-of-type {\n",
       "        vertical-align: middle;\n",
       "    }\n",
       "\n",
       "    .dataframe tbody tr th {\n",
       "        vertical-align: top;\n",
       "    }\n",
       "\n",
       "    .dataframe thead th {\n",
       "        text-align: right;\n",
       "    }\n",
       "</style>\n",
       "<table border=\"1\" class=\"dataframe\">\n",
       "  <thead>\n",
       "    <tr style=\"text-align: right;\">\n",
       "      <th></th>\n",
       "      <th>DATE</th>\n",
       "      <th>A</th>\n",
       "      <th>B</th>\n",
       "      <th>C</th>\n",
       "    </tr>\n",
       "  </thead>\n",
       "  <tbody>\n",
       "    <tr>\n",
       "      <th>0</th>\n",
       "      <td>2023-10-06</td>\n",
       "      <td>0.00</td>\n",
       "      <td>0.00</td>\n",
       "      <td>0.00</td>\n",
       "    </tr>\n",
       "    <tr>\n",
       "      <th>1</th>\n",
       "      <td>2023-10-07</td>\n",
       "      <td>10.28</td>\n",
       "      <td>5.78</td>\n",
       "      <td>6.04</td>\n",
       "    </tr>\n",
       "    <tr>\n",
       "      <th>2</th>\n",
       "      <td>2023-10-08</td>\n",
       "      <td>0.00</td>\n",
       "      <td>0.00</td>\n",
       "      <td>13.62</td>\n",
       "    </tr>\n",
       "    <tr>\n",
       "      <th>3</th>\n",
       "      <td>2023-10-09</td>\n",
       "      <td>8.96</td>\n",
       "      <td>7.84</td>\n",
       "      <td>5.80</td>\n",
       "    </tr>\n",
       "    <tr>\n",
       "      <th>4</th>\n",
       "      <td>2023-10-10</td>\n",
       "      <td>7.28</td>\n",
       "      <td>6.16</td>\n",
       "      <td>4.91</td>\n",
       "    </tr>\n",
       "    <tr>\n",
       "      <th>...</th>\n",
       "      <td>...</td>\n",
       "      <td>...</td>\n",
       "      <td>...</td>\n",
       "      <td>...</td>\n",
       "    </tr>\n",
       "    <tr>\n",
       "      <th>125</th>\n",
       "      <td>2024-02-08</td>\n",
       "      <td>5.37</td>\n",
       "      <td>4.56</td>\n",
       "      <td>2.97</td>\n",
       "    </tr>\n",
       "    <tr>\n",
       "      <th>126</th>\n",
       "      <td>2024-02-09</td>\n",
       "      <td>6.86</td>\n",
       "      <td>7.89</td>\n",
       "      <td>2.67</td>\n",
       "    </tr>\n",
       "    <tr>\n",
       "      <th>127</th>\n",
       "      <td>2024-02-10</td>\n",
       "      <td>8.42</td>\n",
       "      <td>8.10</td>\n",
       "      <td>3.47</td>\n",
       "    </tr>\n",
       "    <tr>\n",
       "      <th>128</th>\n",
       "      <td>2024-02-11</td>\n",
       "      <td>8.20</td>\n",
       "      <td>6.53</td>\n",
       "      <td>3.88</td>\n",
       "    </tr>\n",
       "    <tr>\n",
       "      <th>129</th>\n",
       "      <td>2024-02-12</td>\n",
       "      <td>3.02</td>\n",
       "      <td>1.49</td>\n",
       "      <td>1.56</td>\n",
       "    </tr>\n",
       "  </tbody>\n",
       "</table>\n",
       "<p>130 rows × 4 columns</p>\n",
       "</div>"
      ],
      "text/plain": [
       "           DATE      A     B      C\n",
       "0    2023-10-06   0.00  0.00   0.00\n",
       "1    2023-10-07  10.28  5.78   6.04\n",
       "2    2023-10-08   0.00  0.00  13.62\n",
       "3    2023-10-09   8.96  7.84   5.80\n",
       "4    2023-10-10   7.28  6.16   4.91\n",
       "..          ...    ...   ...    ...\n",
       "125  2024-02-08   5.37  4.56   2.97\n",
       "126  2024-02-09   6.86  7.89   2.67\n",
       "127  2024-02-10   8.42  8.10   3.47\n",
       "128  2024-02-11   8.20  6.53   3.88\n",
       "129  2024-02-12   3.02  1.49   1.56\n",
       "\n",
       "[130 rows x 4 columns]"
      ]
     },
     "execution_count": 6,
     "metadata": {},
     "output_type": "execute_result"
    }
   ],
   "source": [
    "dataset"
   ]
  },
  {
   "cell_type": "code",
   "execution_count": 7,
   "id": "af32f12d",
   "metadata": {},
   "outputs": [
    {
     "data": {
      "text/plain": [
       "Index(['DATE', 'A', 'B', 'C'], dtype='object')"
      ]
     },
     "execution_count": 7,
     "metadata": {},
     "output_type": "execute_result"
    }
   ],
   "source": [
    "dataset.columns"
   ]
  },
  {
   "cell_type": "code",
   "execution_count": 12,
   "id": "148152f0",
   "metadata": {},
   "outputs": [],
   "source": [
    "startdate=\"2023-10-06\"\n",
    "enddate=\"2024-02-12\"\n",
    "df=dataset[dataset['DATE'].between(startdate,enddate)][['DATE', 'A', 'B', 'C']]\n",
    "#df=dataset[dataset['Time'].between(startdate,enddate)][['Time', 'Char A','Char B','Char C','Char D','Char E']]"
   ]
  },
  {
   "cell_type": "code",
   "execution_count": null,
   "id": "669c14f1",
   "metadata": {},
   "outputs": [],
   "source": [
    "df"
   ]
  },
  {
   "cell_type": "code",
   "execution_count": 20,
   "id": "3d9e5bc2",
   "metadata": {},
   "outputs": [],
   "source": [
    "df=df[[ 'A', 'B', 'C']]"
   ]
  },
  {
   "cell_type": "code",
   "execution_count": 21,
   "id": "1e9251a1",
   "metadata": {},
   "outputs": [
    {
     "data": {
      "text/html": [
       "<div>\n",
       "<style scoped>\n",
       "    .dataframe tbody tr th:only-of-type {\n",
       "        vertical-align: middle;\n",
       "    }\n",
       "\n",
       "    .dataframe tbody tr th {\n",
       "        vertical-align: top;\n",
       "    }\n",
       "\n",
       "    .dataframe thead th {\n",
       "        text-align: right;\n",
       "    }\n",
       "</style>\n",
       "<table border=\"1\" class=\"dataframe\">\n",
       "  <thead>\n",
       "    <tr style=\"text-align: right;\">\n",
       "      <th></th>\n",
       "      <th>A</th>\n",
       "      <th>B</th>\n",
       "      <th>C</th>\n",
       "    </tr>\n",
       "  </thead>\n",
       "  <tbody>\n",
       "    <tr>\n",
       "      <th>0</th>\n",
       "      <td>0.00</td>\n",
       "      <td>0.00</td>\n",
       "      <td>0.00</td>\n",
       "    </tr>\n",
       "    <tr>\n",
       "      <th>1</th>\n",
       "      <td>10.28</td>\n",
       "      <td>5.78</td>\n",
       "      <td>6.04</td>\n",
       "    </tr>\n",
       "    <tr>\n",
       "      <th>2</th>\n",
       "      <td>0.00</td>\n",
       "      <td>0.00</td>\n",
       "      <td>13.62</td>\n",
       "    </tr>\n",
       "    <tr>\n",
       "      <th>3</th>\n",
       "      <td>8.96</td>\n",
       "      <td>7.84</td>\n",
       "      <td>5.80</td>\n",
       "    </tr>\n",
       "    <tr>\n",
       "      <th>4</th>\n",
       "      <td>7.28</td>\n",
       "      <td>6.16</td>\n",
       "      <td>4.91</td>\n",
       "    </tr>\n",
       "  </tbody>\n",
       "</table>\n",
       "</div>"
      ],
      "text/plain": [
       "       A     B      C\n",
       "0   0.00  0.00   0.00\n",
       "1  10.28  5.78   6.04\n",
       "2   0.00  0.00  13.62\n",
       "3   8.96  7.84   5.80\n",
       "4   7.28  6.16   4.91"
      ]
     },
     "execution_count": 21,
     "metadata": {},
     "output_type": "execute_result"
    }
   ],
   "source": [
    "df.head()"
   ]
  },
  {
   "cell_type": "code",
   "execution_count": 22,
   "id": "08a3774d",
   "metadata": {},
   "outputs": [],
   "source": [
    "#column='A', 'B', 'C'"
   ]
  },
  {
   "cell_type": "code",
   "execution_count": 23,
   "id": "4561d2d9",
   "metadata": {},
   "outputs": [
    {
     "name": "stdout",
     "output_type": "stream",
     "text": [
      "Len: (130, 3)\n"
     ]
    }
   ],
   "source": [
    "from sklearn.preprocessing import MinMaxScaler\n",
    "Ms = MinMaxScaler()\n",
    "data1= Ms.fit_transform(df)\n",
    "print(\"Len:\",data1.shape)"
   ]
  },
  {
   "cell_type": "code",
   "execution_count": 24,
   "id": "1ae44fbb",
   "metadata": {},
   "outputs": [
    {
     "data": {
      "text/plain": [
       "array([[0.        , 0.        , 0.        ],\n",
       "       [0.97904762, 0.50835532, 0.44346549],\n",
       "       [0.        , 0.        , 1.        ],\n",
       "       [0.85333333, 0.68953386, 0.42584435],\n",
       "       [0.69333333, 0.54177661, 0.36049927],\n",
       "       [0.90095238, 0.83201407, 0.44566814],\n",
       "       [0.88190476, 0.97801231, 0.3215859 ],\n",
       "       [0.78761905, 0.96745822, 0.28928047],\n",
       "       [0.79904762, 0.68953386, 0.34287812],\n",
       "       [0.29238095, 0.2823219 , 0.25403818],\n",
       "       [0.67238095, 0.39401935, 0.30469897],\n",
       "       [0.55238095, 0.75021988, 0.31718062],\n",
       "       [0.82190476, 0.72207564, 0.33773862],\n",
       "       [0.78952381, 0.71328056, 0.34361233],\n",
       "       [0.80285714, 1.        , 0.23568282],\n",
       "       [0.74095238, 0.82233949, 0.28487518],\n",
       "       [0.48095238, 0.25681618, 0.20558003],\n",
       "       [0.61047619, 0.62620932, 0.26064611],\n",
       "       [0.79809524, 0.64028144, 0.26578561],\n",
       "       [0.57428571, 0.71855761, 0.22173275],\n",
       "       [0.78857143, 0.82673703, 0.21365639],\n",
       "       [0.90095238, 0.91292876, 0.21585903],\n",
       "       [0.89904762, 0.84256816, 0.42657856],\n",
       "       [0.22761905, 0.21899736, 0.2753304 ],\n",
       "       [0.54761905, 0.66402814, 0.27312775],\n",
       "       [0.82095238, 0.67282322, 0.31204112],\n",
       "       [0.82857143, 0.59366755, 0.24963289],\n",
       "       [0.92380952, 0.78715919, 0.34434655],\n",
       "       [0.86285714, 0.74054529, 0.29295154],\n",
       "       [0.91142857, 0.68865435, 0.29221733],\n",
       "       [0.31047619, 0.33948989, 0.23348018],\n",
       "       [0.5       , 0.70360598, 0.25477239],\n",
       "       [0.82761905, 0.67370273, 0.30323054],\n",
       "       [0.95333333, 0.74670185, 0.31424376],\n",
       "       [0.8352381 , 0.72383465, 0.34287812],\n",
       "       [1.        , 0.62972735, 0.32892805],\n",
       "       [0.71809524, 0.4819701 , 0.36784141],\n",
       "       [0.10857143, 0.19700967, 0.28781204],\n",
       "       [0.09714286, 0.18733509, 0.21585903],\n",
       "       [0.36285714, 0.61917326, 0.28487518],\n",
       "       [0.58666667, 0.53034301, 0.27973568],\n",
       "       [0.80952381, 0.7291117 , 0.18575624],\n",
       "       [0.81809524, 0.7766051 , 0.26138032],\n",
       "       [0.78380952, 0.72295515, 0.29001468],\n",
       "       [0.30666667, 0.32629727, 0.22834068],\n",
       "       [0.5447619 , 0.42568162, 0.26798825],\n",
       "       [0.67333333, 0.75813544, 0.28340675],\n",
       "       [0.73619048, 0.62708883, 0.3267254 ],\n",
       "       [0.66190476, 0.76341249, 0.30469897],\n",
       "       [0.88952381, 0.78452067, 0.25036711],\n",
       "       [0.7752381 , 0.57783641, 0.18428781],\n",
       "       [0.39428571, 0.24538259, 0.19750367],\n",
       "       [0.51809524, 0.37730871, 0.26578561],\n",
       "       [0.88761905, 0.56376429, 0.25991189],\n",
       "       [0.73714286, 0.66226913, 0.15271659],\n",
       "       [0.47047619, 0.40897098, 0.25403818],\n",
       "       [0.65619048, 0.74054529, 0.22907489],\n",
       "       [0.76571429, 0.32541777, 0.31350954],\n",
       "       [0.30571429, 0.30430959, 0.15418502],\n",
       "       [0.        , 0.        , 0.32085169],\n",
       "       [0.        , 0.20668426, 0.20778267],\n",
       "       [0.24190476, 0.27704485, 0.24522761],\n",
       "       [0.38      , 0.44063325, 0.26651982],\n",
       "       [0.54952381, 0.57783641, 0.29515419],\n",
       "       [0.82666667, 0.64467898, 0.32011747],\n",
       "       [0.30857143, 0.24802111, 0.23788546],\n",
       "       [0.46761905, 0.41688654, 0.26431718],\n",
       "       [0.65238095, 0.66314864, 0.26064611],\n",
       "       [0.66      , 0.59278804, 0.2856094 ],\n",
       "       [0.43428571, 0.67810026, 0.25183554],\n",
       "       [0.67047619, 0.63412489, 0.32305433],\n",
       "       [0.69809524, 0.50043975, 0.31718062],\n",
       "       [0.25047619, 0.28759894, 0.15271659],\n",
       "       [0.50666667, 0.46789798, 0.26945668],\n",
       "       [0.69238095, 0.67282322, 0.29515419],\n",
       "       [0.61904762, 0.41248901, 0.28414097],\n",
       "       [0.55333333, 0.4705365 , 0.22907489],\n",
       "       [0.59904762, 0.6824978 , 0.18208517],\n",
       "       [0.47428571, 0.62884785, 0.36049927],\n",
       "       [0.1647619 , 0.3175022 , 0.20117474],\n",
       "       [0.26      , 0.33861038, 0.14317181],\n",
       "       [0.3752381 , 0.50747581, 0.24449339],\n",
       "       [0.67619048, 0.70360598, 0.29441997],\n",
       "       [0.68      , 0.69041337, 0.25183554],\n",
       "       [0.75714286, 0.79155673, 0.25550661],\n",
       "       [0.45904762, 0.44415128, 0.3318649 ],\n",
       "       [0.        , 0.        , 0.        ],\n",
       "       [0.        , 0.        , 0.        ],\n",
       "       [0.        , 0.        , 0.        ],\n",
       "       [0.        , 0.        , 0.09544787],\n",
       "       [0.73428571, 0.71064204, 0.26064611],\n",
       "       [0.7752381 , 0.62532982, 0.34434655],\n",
       "       [0.72190476, 0.64907652, 0.31571219],\n",
       "       [0.2552381 , 0.24362357, 0.21292217],\n",
       "       [0.40285714, 0.48900616, 0.23641703],\n",
       "       [0.69714286, 0.64819701, 0.26138032],\n",
       "       [0.8447619 , 0.64995602, 0.28193833],\n",
       "       [0.52857143, 0.70712401, 0.30983847],\n",
       "       [0.66761905, 0.73175022, 0.22173275],\n",
       "       [0.67238095, 0.77308707, 0.23421439],\n",
       "       [0.21428571, 0.30870712, 0.09838473],\n",
       "       [0.24666667, 0.28847845, 0.07488987],\n",
       "       [0.15714286, 0.26561126, 0.07488987],\n",
       "       [0.31904762, 0.50483729, 0.22026432],\n",
       "       [0.64666667, 0.45822339, 0.25330396],\n",
       "       [0.68666667, 0.58575198, 0.29809104],\n",
       "       [0.        , 0.        , 0.3979442 ],\n",
       "       [0.66571429, 0.63676341, 0.24082232],\n",
       "       [0.13619048, 0.2233949 , 0.20264317],\n",
       "       [0.3152381 , 0.44415128, 0.24008811],\n",
       "       [0.32095238, 0.59542656, 0.2298091 ],\n",
       "       [0.63714286, 0.64467898, 0.20704846],\n",
       "       [0.71428571, 0.58487247, 0.19970631],\n",
       "       [0.16952381, 0.31662269, 0.20558003],\n",
       "       [0.11904762, 0.17854002, 0.17474302],\n",
       "       [0.05619048, 0.13808267, 0.14317181],\n",
       "       [0.3647619 , 0.46877748, 0.14537445],\n",
       "       [0.67238095, 0.58399296, 0.15932452],\n",
       "       [0.62190476, 0.43711522, 0.20778267],\n",
       "       [0.61428571, 0.67810026, 0.25844347],\n",
       "       [0.75809524, 0.78715919, 0.14684288],\n",
       "       [0.71142857, 0.61301671, 0.16519824],\n",
       "       [0.32571429, 0.21284081, 0.14243759],\n",
       "       [0.56285714, 0.61389622, 0.08370044],\n",
       "       [0.74380952, 0.75813544, 0.20998532],\n",
       "       [0.51142857, 0.40105541, 0.21806167],\n",
       "       [0.65333333, 0.6939314 , 0.19603524],\n",
       "       [0.80190476, 0.71240106, 0.25477239],\n",
       "       [0.78095238, 0.57431838, 0.28487518],\n",
       "       [0.28761905, 0.13104661, 0.11453744]])"
      ]
     },
     "execution_count": 24,
     "metadata": {},
     "output_type": "execute_result"
    }
   ],
   "source": [
    "data1"
   ]
  },
  {
   "cell_type": "code",
   "execution_count": null,
   "id": "924bd03e",
   "metadata": {},
   "outputs": [],
   "source": [
    "len(data1)"
   ]
  },
  {
   "cell_type": "code",
   "execution_count": 25,
   "id": "f9b51463",
   "metadata": {},
   "outputs": [],
   "source": [
    "data1=pd.DataFrame(data1,columns=['A', 'B', 'C'])"
   ]
  },
  {
   "cell_type": "code",
   "execution_count": 26,
   "id": "cc90e7ca",
   "metadata": {},
   "outputs": [
    {
     "data": {
      "text/html": [
       "<div>\n",
       "<style scoped>\n",
       "    .dataframe tbody tr th:only-of-type {\n",
       "        vertical-align: middle;\n",
       "    }\n",
       "\n",
       "    .dataframe tbody tr th {\n",
       "        vertical-align: top;\n",
       "    }\n",
       "\n",
       "    .dataframe thead th {\n",
       "        text-align: right;\n",
       "    }\n",
       "</style>\n",
       "<table border=\"1\" class=\"dataframe\">\n",
       "  <thead>\n",
       "    <tr style=\"text-align: right;\">\n",
       "      <th></th>\n",
       "      <th>A</th>\n",
       "      <th>B</th>\n",
       "      <th>C</th>\n",
       "    </tr>\n",
       "  </thead>\n",
       "  <tbody>\n",
       "    <tr>\n",
       "      <th>0</th>\n",
       "      <td>0.000000</td>\n",
       "      <td>0.000000</td>\n",
       "      <td>0.000000</td>\n",
       "    </tr>\n",
       "    <tr>\n",
       "      <th>1</th>\n",
       "      <td>0.979048</td>\n",
       "      <td>0.508355</td>\n",
       "      <td>0.443465</td>\n",
       "    </tr>\n",
       "    <tr>\n",
       "      <th>2</th>\n",
       "      <td>0.000000</td>\n",
       "      <td>0.000000</td>\n",
       "      <td>1.000000</td>\n",
       "    </tr>\n",
       "    <tr>\n",
       "      <th>3</th>\n",
       "      <td>0.853333</td>\n",
       "      <td>0.689534</td>\n",
       "      <td>0.425844</td>\n",
       "    </tr>\n",
       "    <tr>\n",
       "      <th>4</th>\n",
       "      <td>0.693333</td>\n",
       "      <td>0.541777</td>\n",
       "      <td>0.360499</td>\n",
       "    </tr>\n",
       "    <tr>\n",
       "      <th>...</th>\n",
       "      <td>...</td>\n",
       "      <td>...</td>\n",
       "      <td>...</td>\n",
       "    </tr>\n",
       "    <tr>\n",
       "      <th>125</th>\n",
       "      <td>0.511429</td>\n",
       "      <td>0.401055</td>\n",
       "      <td>0.218062</td>\n",
       "    </tr>\n",
       "    <tr>\n",
       "      <th>126</th>\n",
       "      <td>0.653333</td>\n",
       "      <td>0.693931</td>\n",
       "      <td>0.196035</td>\n",
       "    </tr>\n",
       "    <tr>\n",
       "      <th>127</th>\n",
       "      <td>0.801905</td>\n",
       "      <td>0.712401</td>\n",
       "      <td>0.254772</td>\n",
       "    </tr>\n",
       "    <tr>\n",
       "      <th>128</th>\n",
       "      <td>0.780952</td>\n",
       "      <td>0.574318</td>\n",
       "      <td>0.284875</td>\n",
       "    </tr>\n",
       "    <tr>\n",
       "      <th>129</th>\n",
       "      <td>0.287619</td>\n",
       "      <td>0.131047</td>\n",
       "      <td>0.114537</td>\n",
       "    </tr>\n",
       "  </tbody>\n",
       "</table>\n",
       "<p>130 rows × 3 columns</p>\n",
       "</div>"
      ],
      "text/plain": [
       "            A         B         C\n",
       "0    0.000000  0.000000  0.000000\n",
       "1    0.979048  0.508355  0.443465\n",
       "2    0.000000  0.000000  1.000000\n",
       "3    0.853333  0.689534  0.425844\n",
       "4    0.693333  0.541777  0.360499\n",
       "..        ...       ...       ...\n",
       "125  0.511429  0.401055  0.218062\n",
       "126  0.653333  0.693931  0.196035\n",
       "127  0.801905  0.712401  0.254772\n",
       "128  0.780952  0.574318  0.284875\n",
       "129  0.287619  0.131047  0.114537\n",
       "\n",
       "[130 rows x 3 columns]"
      ]
     },
     "execution_count": 26,
     "metadata": {},
     "output_type": "execute_result"
    }
   ],
   "source": [
    "data1"
   ]
  },
  {
   "cell_type": "code",
   "execution_count": 27,
   "id": "9146d85e",
   "metadata": {},
   "outputs": [
    {
     "name": "stdout",
     "output_type": "stream",
     "text": [
      "104\n",
      "X_train length: (104, 3)\n",
      "X_test length: (26, 3)\n",
      "y_train length: (104, 3)\n",
      "y_test length: (26, 3)\n"
     ]
    }
   ],
   "source": [
    "training_size=round(len(data1)*0.80)\n",
    "print(training_size)\n",
    "X_train=data1[:training_size]\n",
    "X_test=data1[training_size:]\n",
    "print(\"X_train length:\",X_train.shape)\n",
    "print(\"X_test length:\",X_test.shape)\n",
    "y_train=data1[:training_size]\n",
    "y_test=data1[training_size:]\n",
    "print(\"y_train length:\",y_train.shape)\n",
    "print(\"y_test length:\",y_test.shape)"
   ]
  },
  {
   "cell_type": "code",
   "execution_count": 29,
   "id": "0c5399e9",
   "metadata": {},
   "outputs": [],
   "source": [
    "Quality={'Model':[],'A':[],'B':[],'C':[]}"
   ]
  },
  {
   "cell_type": "code",
   "execution_count": 30,
   "id": "f712b5c5",
   "metadata": {},
   "outputs": [
    {
     "data": {
      "text/plain": [
       "{'Model': [], 'A': [], 'B': [], 'C': []}"
      ]
     },
     "execution_count": 30,
     "metadata": {},
     "output_type": "execute_result"
    }
   ],
   "source": [
    "Quality"
   ]
  },
  {
   "cell_type": "code",
   "execution_count": 46,
   "id": "79052822",
   "metadata": {},
   "outputs": [
    {
     "data": {
      "text/html": [
       "<div>\n",
       "<style scoped>\n",
       "    .dataframe tbody tr th:only-of-type {\n",
       "        vertical-align: middle;\n",
       "    }\n",
       "\n",
       "    .dataframe tbody tr th {\n",
       "        vertical-align: top;\n",
       "    }\n",
       "\n",
       "    .dataframe thead th {\n",
       "        text-align: right;\n",
       "    }\n",
       "</style>\n",
       "<table border=\"1\" class=\"dataframe\">\n",
       "  <thead>\n",
       "    <tr style=\"text-align: right;\">\n",
       "      <th></th>\n",
       "      <th>A</th>\n",
       "      <th>B</th>\n",
       "      <th>C</th>\n",
       "    </tr>\n",
       "  </thead>\n",
       "  <tbody>\n",
       "    <tr>\n",
       "      <th>0</th>\n",
       "      <td>0.000000</td>\n",
       "      <td>0.000000</td>\n",
       "      <td>0.000000</td>\n",
       "    </tr>\n",
       "    <tr>\n",
       "      <th>1</th>\n",
       "      <td>0.979048</td>\n",
       "      <td>0.508355</td>\n",
       "      <td>0.443465</td>\n",
       "    </tr>\n",
       "    <tr>\n",
       "      <th>2</th>\n",
       "      <td>0.000000</td>\n",
       "      <td>0.000000</td>\n",
       "      <td>1.000000</td>\n",
       "    </tr>\n",
       "    <tr>\n",
       "      <th>3</th>\n",
       "      <td>0.853333</td>\n",
       "      <td>0.689534</td>\n",
       "      <td>0.425844</td>\n",
       "    </tr>\n",
       "    <tr>\n",
       "      <th>4</th>\n",
       "      <td>0.693333</td>\n",
       "      <td>0.541777</td>\n",
       "      <td>0.360499</td>\n",
       "    </tr>\n",
       "    <tr>\n",
       "      <th>...</th>\n",
       "      <td>...</td>\n",
       "      <td>...</td>\n",
       "      <td>...</td>\n",
       "    </tr>\n",
       "    <tr>\n",
       "      <th>125</th>\n",
       "      <td>0.511429</td>\n",
       "      <td>0.401055</td>\n",
       "      <td>0.218062</td>\n",
       "    </tr>\n",
       "    <tr>\n",
       "      <th>126</th>\n",
       "      <td>0.653333</td>\n",
       "      <td>0.693931</td>\n",
       "      <td>0.196035</td>\n",
       "    </tr>\n",
       "    <tr>\n",
       "      <th>127</th>\n",
       "      <td>0.801905</td>\n",
       "      <td>0.712401</td>\n",
       "      <td>0.254772</td>\n",
       "    </tr>\n",
       "    <tr>\n",
       "      <th>128</th>\n",
       "      <td>0.780952</td>\n",
       "      <td>0.574318</td>\n",
       "      <td>0.284875</td>\n",
       "    </tr>\n",
       "    <tr>\n",
       "      <th>129</th>\n",
       "      <td>0.287619</td>\n",
       "      <td>0.131047</td>\n",
       "      <td>0.114537</td>\n",
       "    </tr>\n",
       "  </tbody>\n",
       "</table>\n",
       "<p>130 rows × 3 columns</p>\n",
       "</div>"
      ],
      "text/plain": [
       "            A         B         C\n",
       "0    0.000000  0.000000  0.000000\n",
       "1    0.979048  0.508355  0.443465\n",
       "2    0.000000  0.000000  1.000000\n",
       "3    0.853333  0.689534  0.425844\n",
       "4    0.693333  0.541777  0.360499\n",
       "..        ...       ...       ...\n",
       "125  0.511429  0.401055  0.218062\n",
       "126  0.653333  0.693931  0.196035\n",
       "127  0.801905  0.712401  0.254772\n",
       "128  0.780952  0.574318  0.284875\n",
       "129  0.287619  0.131047  0.114537\n",
       "\n",
       "[130 rows x 3 columns]"
      ]
     },
     "execution_count": 46,
     "metadata": {},
     "output_type": "execute_result"
    }
   ],
   "source": [
    "data1"
   ]
  },
  {
   "cell_type": "code",
   "execution_count": 47,
   "id": "cb4c791e",
   "metadata": {},
   "outputs": [],
   "source": [
    "listt=['A', 'B', 'C']"
   ]
  },
  {
   "cell_type": "code",
   "execution_count": 48,
   "id": "d2f3151a",
   "metadata": {},
   "outputs": [
    {
     "data": {
      "text/plain": [
       "['A', 'B', 'C']"
      ]
     },
     "execution_count": 48,
     "metadata": {},
     "output_type": "execute_result"
    }
   ],
   "source": [
    "listt"
   ]
  },
  {
   "cell_type": "code",
   "execution_count": 49,
   "id": "bcdb6926",
   "metadata": {},
   "outputs": [
    {
     "name": "stdout",
     "output_type": "stream",
     "text": [
      "Order = 1\n",
      "AIC:  3.213214327227525\n",
      "BIC:  3.5239217153670803\n",
      "\n",
      "Order = 2\n",
      "AIC:  2.963237560192325\n",
      "BIC:  3.510323299249824\n",
      "\n",
      "Order = 3\n",
      "AIC:  2.141687006486921\n",
      "BIC:  2.92808696107316\n",
      "\n",
      "Order = 4\n",
      "AIC:  2.2244055920746417\n",
      "BIC:  3.2531171397088494\n",
      "\n",
      "Order = 5\n",
      "AIC:  2.3584810929077626\n",
      "BIC:  3.632564876084694\n",
      "\n",
      "Order = 6\n",
      "AIC:  2.357499363089601\n",
      "BIC:  3.8800811017736283\n",
      "\n",
      "Order = 7\n",
      "AIC:  2.234835762783372\n",
      "BIC:  4.009108129579538\n",
      "\n",
      "Order = 8\n",
      "AIC:  2.0847850209868297\n",
      "BIC:  4.1140095813086415\n",
      "\n",
      "Order = 9\n",
      "AIC:  2.0380530244414556\n",
      "BIC:  4.325562244063751\n",
      "\n",
      "Order = 10\n",
      "AIC:  2.181171983615749\n",
      "BIC:  4.730371306067497\n",
      "\n"
     ]
    }
   ],
   "source": [
    "datasetTwo=df[listt]\n",
    "test_obs = 28\n",
    "train =datasetTwo[:-test_obs]\n",
    "test = datasetTwo[-test_obs:]\n",
    "from statsmodels.tsa.api import VAR\n",
    "for i in [1,2,3,4,5,6,7,8,9,10]:\n",
    "    model = VAR(train)\n",
    "    results = model.fit(i)\n",
    "    print('Order =', i)\n",
    "    print('AIC: ', results.aic)\n",
    "    print('BIC: ', results.bic)\n",
    "    print()\n",
    "x = model.select_order(maxlags=12)\n",
    "order=x.selected_orders[\"aic\"]\n",
    "result = model.fit(order)"
   ]
  },
  {
   "cell_type": "code",
   "execution_count": 50,
   "id": "db9a2ec9",
   "metadata": {},
   "outputs": [],
   "source": [
    "#forecast =result.forecast(result,steps=12)"
   ]
  },
  {
   "cell_type": "code",
   "execution_count": 51,
   "id": "47b4107a",
   "metadata": {},
   "outputs": [
    {
     "data": {
      "text/plain": [
       "Index(['A', 'B', 'C'], dtype='object')"
      ]
     },
     "execution_count": 51,
     "metadata": {},
     "output_type": "execute_result"
    }
   ],
   "source": [
    "data1.columns"
   ]
  },
  {
   "cell_type": "code",
   "execution_count": 52,
   "id": "86e9f786",
   "metadata": {},
   "outputs": [
    {
     "name": "stdout",
     "output_type": "stream",
     "text": [
      "<class 'pandas.core.frame.DataFrame'>\n",
      "RangeIndex: 130 entries, 0 to 129\n",
      "Data columns (total 4 columns):\n",
      " #   Column  Non-Null Count  Dtype         \n",
      "---  ------  --------------  -----         \n",
      " 0   DATE    130 non-null    datetime64[ns]\n",
      " 1   A       130 non-null    float64       \n",
      " 2   B       130 non-null    float64       \n",
      " 3   C       130 non-null    float64       \n",
      "dtypes: datetime64[ns](1), float64(3)\n",
      "memory usage: 4.2 KB\n"
     ]
    }
   ],
   "source": [
    "dataset.info()"
   ]
  },
  {
   "cell_type": "code",
   "execution_count": 55,
   "id": "459504aa",
   "metadata": {},
   "outputs": [
    {
     "name": "stdout",
     "output_type": "stream",
     "text": [
      "Lagged values shape: (2, 3)\n",
      "Insufficient observations for prediction.\n"
     ]
    }
   ],
   "source": [
    "#import pandas as pd\n",
    "\n",
    "# Assuming `model` is the fitted VAR model\n",
    "# `data1` is the preprocessed dataset used for training\n",
    "# `order` is the order of the VAR model\n",
    "\n",
    "# Get the last lagged values from the training data as input for prediction\n",
    "lagged_values = data1[-order:]\n",
    "\n",
    "print(\"Lagged values shape:\", lagged_values.shape)\n",
    "\n",
    "if lagged_values.shape[0] < 10:\n",
    "    print(\"Insufficient observations for prediction.\")\n",
    "else:\n",
    "    # Predict the next 5 days\n",
    "    predictions = model.forecast(y=lagged_values.values, steps=60)\n",
    "\n",
    "    # Create a date range for the next 5 days\n",
    "    last_date = pd.to_datetime(dataset[\"DATE\"].iloc[-1])\n",
    "    date_range = pd.date_range(last_date + pd.DateOffset(1), periods=60)\n",
    "\n",
    "    # Convert the predictions array to a DataFrame and assign the date range as the index\n",
    "    predictions_df = pd.DataFrame(predictions, columns=listt, index=date_range)\n",
    "\n",
    "    # Print the predictions\n",
    "    print(predictions_df)\n"
   ]
  },
  {
   "cell_type": "code",
   "execution_count": 56,
   "id": "aa9da9e4",
   "metadata": {},
   "outputs": [],
   "source": [
    "dataset['DATE']=pd.to_datetime(dataset['DATE'])"
   ]
  },
  {
   "cell_type": "code",
   "execution_count": null,
   "id": "58c83cca",
   "metadata": {},
   "outputs": [],
   "source": []
  },
  {
   "cell_type": "code",
   "execution_count": null,
   "id": "83db5ee6",
   "metadata": {},
   "outputs": [],
   "source": []
  },
  {
   "cell_type": "code",
   "execution_count": null,
   "id": "27f558d3",
   "metadata": {},
   "outputs": [],
   "source": []
  },
  {
   "cell_type": "code",
   "execution_count": 54,
   "id": "dde92b92",
   "metadata": {},
   "outputs": [
    {
     "ename": "ValueError",
     "evalue": "y must by have at least order (10) observations. Got 2.",
     "output_type": "error",
     "traceback": [
      "\u001b[1;31m---------------------------------------------------------------------------\u001b[0m",
      "\u001b[1;31mValueError\u001b[0m                                Traceback (most recent call last)",
      "Cell \u001b[1;32mIn[54], line 8\u001b[0m\n\u001b[0;32m      5\u001b[0m lagged_values \u001b[38;5;241m=\u001b[39m data1[\u001b[38;5;241m-\u001b[39morder:]\n\u001b[0;32m      7\u001b[0m \u001b[38;5;66;03m# Predict the next 5 days\u001b[39;00m\n\u001b[1;32m----> 8\u001b[0m predictions \u001b[38;5;241m=\u001b[39m results\u001b[38;5;241m.\u001b[39mforecast(y\u001b[38;5;241m=\u001b[39mlagged_values\u001b[38;5;241m.\u001b[39mvalues, steps\u001b[38;5;241m=\u001b[39m\u001b[38;5;241m60\u001b[39m)\n\u001b[0;32m     10\u001b[0m \u001b[38;5;66;03m# Create a date range for the next 5 days\u001b[39;00m\n\u001b[0;32m     11\u001b[0m last_date \u001b[38;5;241m=\u001b[39m pd\u001b[38;5;241m.\u001b[39mto_datetime(dataset[\u001b[38;5;124m\"\u001b[39m\u001b[38;5;124mDATE\u001b[39m\u001b[38;5;124m\"\u001b[39m]\u001b[38;5;241m.\u001b[39miloc[\u001b[38;5;241m-\u001b[39m\u001b[38;5;241m1\u001b[39m])\n",
      "File \u001b[1;32m~\\anaconda3\\envs\\aiads\\Lib\\site-packages\\statsmodels\\tsa\\vector_ar\\var_model.py:1177\u001b[0m, in \u001b[0;36mVARProcess.forecast\u001b[1;34m(self, y, steps, exog_future)\u001b[0m\n\u001b[0;32m   1175\u001b[0m \u001b[38;5;28;01melse\u001b[39;00m:\n\u001b[0;32m   1176\u001b[0m     exog_future \u001b[38;5;241m=\u001b[39m np\u001b[38;5;241m.\u001b[39mcolumn_stack(exogs)\n\u001b[1;32m-> 1177\u001b[0m \u001b[38;5;28;01mreturn\u001b[39;00m forecast(y, \u001b[38;5;28mself\u001b[39m\u001b[38;5;241m.\u001b[39mcoefs, trend_coefs, steps, exog_future)\n",
      "File \u001b[1;32m~\\anaconda3\\envs\\aiads\\Lib\\site-packages\\statsmodels\\tsa\\vector_ar\\var_model.py:233\u001b[0m, in \u001b[0;36mforecast\u001b[1;34m(y, coefs, trend_coefs, steps, exog)\u001b[0m\n\u001b[0;32m    231\u001b[0m k \u001b[38;5;241m=\u001b[39m \u001b[38;5;28mlen\u001b[39m(coefs[\u001b[38;5;241m0\u001b[39m])\n\u001b[0;32m    232\u001b[0m \u001b[38;5;28;01mif\u001b[39;00m y\u001b[38;5;241m.\u001b[39mshape[\u001b[38;5;241m0\u001b[39m] \u001b[38;5;241m<\u001b[39m p:\n\u001b[1;32m--> 233\u001b[0m     \u001b[38;5;28;01mraise\u001b[39;00m \u001b[38;5;167;01mValueError\u001b[39;00m(\n\u001b[0;32m    234\u001b[0m         \u001b[38;5;124mf\u001b[39m\u001b[38;5;124m\"\u001b[39m\u001b[38;5;124my must by have at least order (\u001b[39m\u001b[38;5;132;01m{\u001b[39;00mp\u001b[38;5;132;01m}\u001b[39;00m\u001b[38;5;124m) observations. \u001b[39m\u001b[38;5;124m\"\u001b[39m\n\u001b[0;32m    235\u001b[0m         \u001b[38;5;124mf\u001b[39m\u001b[38;5;124m\"\u001b[39m\u001b[38;5;124mGot \u001b[39m\u001b[38;5;132;01m{\u001b[39;00my\u001b[38;5;241m.\u001b[39mshape[\u001b[38;5;241m0\u001b[39m]\u001b[38;5;132;01m}\u001b[39;00m\u001b[38;5;124m.\u001b[39m\u001b[38;5;124m\"\u001b[39m\n\u001b[0;32m    236\u001b[0m     )\n\u001b[0;32m    237\u001b[0m \u001b[38;5;66;03m# initial value\u001b[39;00m\n\u001b[0;32m    238\u001b[0m forcs \u001b[38;5;241m=\u001b[39m np\u001b[38;5;241m.\u001b[39mzeros((steps, k))\n",
      "\u001b[1;31mValueError\u001b[0m: y must by have at least order (10) observations. Got 2."
     ]
    }
   ],
   "source": [
    "# Assuming `model` is the fitted VAR model\n",
    "# `data1` is the preprocessed dataset used for training\n",
    "\n",
    "# Get the last lagged values from the training data as input for prediction\n",
    "lagged_values = data1[-order:]\n",
    "\n",
    "# Predict the next 5 days\n",
    "predictions = results.forecast(y=lagged_values.values, steps=60)\n",
    "\n",
    "# Create a date range for the next 5 days\n",
    "last_date = pd.to_datetime(dataset[\"DATE\"].iloc[-1])\n",
    "\n",
    "date_range = pd.date_range(last_date + pd.DateOffset(1), periods=60)\n",
    "\n",
    "# Convert the predictions array to a DataFrame and assign the date range as the index\n",
    "predictions_df = pd.DataFrame(predictions, columns=listt, index=date_range)\n",
    "\n",
    "# Print the predictions\n",
    "print(predictions_df)"
   ]
  },
  {
   "cell_type": "code",
   "execution_count": null,
   "id": "b1c20ddc",
   "metadata": {},
   "outputs": [],
   "source": []
  },
  {
   "cell_type": "code",
   "execution_count": null,
   "id": "b92b2c0d",
   "metadata": {},
   "outputs": [],
   "source": []
  },
  {
   "cell_type": "code",
   "execution_count": null,
   "id": "a8c2c82e",
   "metadata": {},
   "outputs": [],
   "source": []
  }
 ],
 "metadata": {
  "kernelspec": {
   "display_name": "Python 3 (ipykernel)",
   "language": "python",
   "name": "python3"
  },
  "language_info": {
   "codemirror_mode": {
    "name": "ipython",
    "version": 3
   },
   "file_extension": ".py",
   "mimetype": "text/x-python",
   "name": "python",
   "nbconvert_exporter": "python",
   "pygments_lexer": "ipython3",
   "version": "3.11.3"
  }
 },
 "nbformat": 4,
 "nbformat_minor": 5
}
